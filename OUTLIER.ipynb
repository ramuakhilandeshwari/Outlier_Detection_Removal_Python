{
  "nbformat": 4,
  "nbformat_minor": 0,
  "metadata": {
    "colab": {
      "name": "OUTLIER.ipynb",
      "provenance": [],
      "collapsed_sections": []
    },
    "kernelspec": {
      "name": "python3",
      "display_name": "Python 3"
    },
    "language_info": {
      "name": "python"
    }
  },
  "cells": [
    {
      "cell_type": "code",
      "metadata": {
        "id": "g1jt4U4Id_3N"
      },
      "source": [
        "#Outlier removal(not used,just checking)\n",
        "print('original shape of dataset :',d.shape)\n",
        "\n",
        "#criteria\n",
        "Q1 = d.quantile(0.25)\n",
        "Q3 = d.quantile(0.75)\n",
        "IQR = Q3-Q1\n",
        "max_ = Q3+1.5*IQR\n",
        "min_ = Q1-1.5*IQR\n",
        "\n",
        "#filter the outlier s\n",
        "condition = (d <= max_) & (d >= min_)\n",
        "condition = condition.all(axis=1)\n",
        "df = d[condition]\n",
        "print('filtered dataset shape : ',df.shape)"
      ],
      "execution_count": null,
      "outputs": []
    }
  ]
}